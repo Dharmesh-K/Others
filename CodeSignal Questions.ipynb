{
 "cells": [
  {
   "cell_type": "code",
   "execution_count": 1,
   "id": "38bfc3eb-2e54-4c4f-bd8f-4be66ae07651",
   "metadata": {},
   "outputs": [],
   "source": [
    "#Array Manipulation: Write a function that takes an array of integers and returns the maximum sum of any contiguous subarray."
   ]
  },
  {
   "cell_type": "code",
   "execution_count": 139,
   "id": "bbc85a9e-c583-4655-a8e2-aee03d72eb1d",
   "metadata": {},
   "outputs": [
    {
     "name": "stdout",
     "output_type": "stream",
     "text": [
      "Maximum sum of contiguous subarray: 6\n"
     ]
    }
   ],
   "source": [
    "def max_subarray_sum(arr):\n",
    "    # Initialize the maximum sum and current sum\n",
    "    max_sum = float('-inf')\n",
    "    current_sum = 0\n",
    "\n",
    "    for num in arr:\n",
    "        current_sum += num\n",
    "        \n",
    "        # Update max_sum if current_sum is greater\n",
    "        max_sum = max(max_sum, current_sum)\n",
    "        \n",
    "        # Reset current_sum if it becomes negative\n",
    "        if current_sum < 0:\n",
    "            current_sum = 0\n",
    "            \n",
    "    return max_sum\n",
    "\n",
    "# Example usage\n",
    "array = [-2, 1, -3, 4, -1, 2, 1, -5, 4]\n",
    "result = max_subarray_sum(array)\n",
    "print(\"Maximum sum of contiguous subarray:\", result)"
   ]
  },
  {
   "cell_type": "code",
   "execution_count": 1,
   "id": "5b1da4d2-aabf-4641-b588-c7e7295cb7d6",
   "metadata": {},
   "outputs": [],
   "source": [
    "# Toy App Simulation\n",
    "# Level 1: Basic App Structure - Creating a class representing a user\n",
    "# Level 2: User Interactions - Implementing a function that creates a new user"
   ]
  },
  {
   "cell_type": "code",
   "execution_count": 234,
   "id": "8f8049fe-8a2a-4c73-8808-c78441f4741d",
   "metadata": {},
   "outputs": [],
   "source": [
    "class User:\n",
    "    \n",
    "    def __init__(self, name, email):\n",
    "        self.name = name\n",
    "        self.email = email\n",
    "\n",
    "    def get_name(self):\n",
    "        return f\"The name of the user is {self.name}\"\n",
    "\n",
    "    def get_email(self):\n",
    "        return f\"The email address of {self.name} is {self.email}\"\n",
    "\n",
    "def create_user(name, email):\n",
    "    return User(name, email)\n",
    "\n",
    "class UserDatabase:\n",
    "\n",
    "    def __init__(self):\n",
    "        self.user = []\n",
    "\n",
    "    def add_user(self, user):\n",
    "        self.user.append(user)\n",
    "    \n",
    "    def find_user_by_email(self, email):\n",
    "        for user in self.user:\n",
    "            if user.email == email:\n",
    "                return user.name\n",
    "            else:\n",
    "                return None\n",
    "\n",
    "    def delete_user_by_email(self, email):\n",
    "        for i, user in enumerate(self.user):\n",
    "            if user.email == email:\n",
    "                del self.user\n",
    "                return f\"User deleted {user.name}\"\n",
    "            else:\n",
    "                return print(\"User not found\")\n"
   ]
  },
  {
   "cell_type": "code",
   "execution_count": 239,
   "id": "cbc8195d-bb34-41fb-bf3f-420cc65b8ef7",
   "metadata": {},
   "outputs": [],
   "source": [
    "# E-commerce Store Simulation \n",
    "# Level 1: Product Management - Create a class representing a product\n",
    "# Level 2: Shopping Cart\n",
    "# Level 3: Order Processing\n",
    "# Level 4:"
   ]
  },
  {
   "cell_type": "code",
   "execution_count": 464,
   "id": "0c2a0fd2-8c6d-4583-99cb-166173e87ea9",
   "metadata": {},
   "outputs": [],
   "source": [
    "class Product:\n",
    "\n",
    "    def __init__(self, name: str, price: float, quantity: int):\n",
    "        self.name = name\n",
    "        self.price = price\n",
    "        self.quantity = quantity\n",
    "\n",
    "    def get_name(self):\n",
    "        return self.name\n",
    "\n",
    "    def get_price(self):\n",
    "        return self.price\n",
    "\n",
    "    def get_quantity(self):\n",
    "        return self.quantity\n",
    "\n",
    "class ShoppingCart:\n",
    "\n",
    "    def __init__(self):\n",
    "        self.cart = []\n",
    "        \n",
    "    def add_product(self, product, quantity):\n",
    "        self.cart.append((product, quantity))\n",
    "        return f\"{quantity} {product} added to your shopping cart\"\n",
    "\n",
    "    def remove_product(self, product, quantity):\n",
    "            for i, (item, item_quantity) in enumerate (self.cart):\n",
    "                if (item == product):\n",
    "                    if (item_quantity >= quantity):\n",
    "                        self.cart.pop(i)\n",
    "                        self.cart.append((product, (item_quantity-quantity)))\n",
    "                        return f\"{quantity} {product} removed from your shopping cart\"\n",
    "                    else:\n",
    "                         return f\"Not enough quantity of {product} in your shopping cart\"       \n",
    "            return print(\"Product not found in cart\")\n",
    "    \n",
    "    def get_total_price(self):\n",
    "        total_price = 0\n",
    "        for product, quantity in self.cart:\n",
    "            total_price += product.get_price() * quantity\n",
    "        return total_price"
   ]
  },
  {
   "cell_type": "code",
   "execution_count": 469,
   "id": "c3fdb0f2-f82c-41bc-9f87-101c5b407197",
   "metadata": {},
   "outputs": [
    {
     "name": "stdout",
     "output_type": "stream",
     "text": [
      "2 <__main__.Product object at 0x000001A224F9C0D0> added to your shopping cart\n",
      "1 <__main__.Product object at 0x000001A224DB41D0> added to your shopping cart\n",
      "40.0\n"
     ]
    }
   ],
   "source": [
    "product1 = Product(\"Product A\", 10.0, 50)  # Provide quantity\n",
    "product2 = Product(\"Product B\", 20.0, 10)\n",
    "\n",
    "cart = ShoppingCart()\n",
    "print(cart.add_product(product1, 2))\n",
    "print(cart.add_product(product2, 1))\n",
    "print(cart.get_total_price())"
   ]
  },
  {
   "cell_type": "code",
   "execution_count": null,
   "id": "acfc9059-ca0e-468c-b064-5dc061514d64",
   "metadata": {},
   "outputs": [],
   "source": [
    "#Example 2: Simple Task Manager from GPT"
   ]
  },
  {
   "cell_type": "code",
   "execution_count": 522,
   "id": "b786c128-7d88-4a71-ae1a-a862705b9a4e",
   "metadata": {},
   "outputs": [],
   "source": [
    "#Level 1: Basic Task Management\n",
    "\n",
    "class TaskManager:\n",
    "\n",
    "    def __init__(self):\n",
    "        self.task = []\n",
    "\n",
    "    def add_task(self, task):\n",
    "        self.task.append(task)\n",
    "\n",
    "#Had to redo this part and use a normal loop instead of enumerate - because it is just a list of task names and not tuples!\n",
    "    def remove_task(self, task):\n",
    "        for i in range(len(self.task)):\n",
    "            if self.task[i] == task:\n",
    "                del self.task[i]\n",
    "                return\n",
    "        return \"The task you would like removed is not valid\"\n",
    "        \n",
    "    def get_tasks(self):\n",
    "        return self.task"
   ]
  },
  {
   "cell_type": "code",
   "execution_count": 523,
   "id": "49f30ed7-9519-43ee-8690-0820a4641286",
   "metadata": {},
   "outputs": [
    {
     "name": "stdout",
     "output_type": "stream",
     "text": [
      "['Write code', 'Test code']\n"
     ]
    },
    {
     "data": {
      "text/plain": [
       "'The task you would like removed is not valid'"
      ]
     },
     "execution_count": 523,
     "metadata": {},
     "output_type": "execute_result"
    }
   ],
   "source": [
    "tm = TaskManager()\n",
    "tm.add_task(\"Write code\")\n",
    "tm.add_task(\"Test code\")\n",
    "print(tm.get_tasks())\n",
    "tm.remove_task(\"Test code\")"
   ]
  },
  {
   "cell_type": "code",
   "execution_count": 699,
   "id": "e6727d64-b990-4c41-86b0-152228147aa3",
   "metadata": {},
   "outputs": [],
   "source": [
    "#Level 2: Enhanced Functionality and Level 3: Task Completion\n",
    "\n",
    "class TaskManager:\n",
    "\n",
    "    def __init__(self):\n",
    "        self.task = {} #this is a set but the {} is also used for initialising a value as a dictionary in python.\n",
    "\n",
    "    def add_task(self, task):\n",
    "        self.task[task] = (False)\n",
    "\n",
    "#Had to redo this part and use a normal loop instead of enumerate - because it is just a list of task names and not tuples!\n",
    "    def remove_task(self, task):\n",
    "        try: \n",
    "            del self.task[task]\n",
    "        except KeyError:\n",
    "            print(\"The task entered does not exist\")\n",
    "\n",
    "    def complete_task(self, task):\n",
    "        if task in self.task:\n",
    "            self.task[task] = True\n",
    "        else:\n",
    "            print(\"The task entered does not exist\")\n",
    "            \n",
    "    def get_tasks(self):\n",
    "        return [{\"task\": task, \"completed\": completed} for task, completed in self.task.items()]\n",
    "\n",
    "    def get_task_count(self):\n",
    "        return len(self.task)\n",
    "\n",
    "    def clear_tasks(self):\n",
    "        self.task = {}"
   ]
  },
  {
   "cell_type": "code",
   "execution_count": 700,
   "id": "94410dd1-1292-4b65-9e6f-2592ee1b5523",
   "metadata": {},
   "outputs": [
    {
     "name": "stdout",
     "output_type": "stream",
     "text": [
      "[{'task': 'Write code', 'completed': False}, {'task': 'Read code', 'completed': False}, {'task': 'Print code', 'completed': False}]\n",
      "3\n"
     ]
    }
   ],
   "source": [
    "tm = TaskManager()\n",
    "tm.add_task(\"Write code\")\n",
    "tm.add_task(\"Read code\")\n",
    "tm.add_task(\"Print code\")\n",
    "print(tm.get_tasks())\n",
    "tm.complete_task(\"Read code\")\n",
    "print(tm.get_task_count())"
   ]
  },
  {
   "cell_type": "code",
   "execution_count": 707,
   "id": "360d98ab-bde0-4071-ac1b-f42a71381aa9",
   "metadata": {},
   "outputs": [],
   "source": [
    "#Level 4: Persistance\n",
    "\n",
    "class TaskManager:\n",
    "\n",
    "    def __init__(self):\n",
    "        self.task = {} #this is a set but the {} is also used for initialising a value as a dictionary in python.\n",
    "\n",
    "    def add_task(self, task):\n",
    "        self.task[task] = (False)\n",
    "\n",
    "#Had to redo this part and use a normal loop instead of enumerate - because it is just a list of task names and not tuples!\n",
    "    def remove_task(self, task):\n",
    "        try: \n",
    "            del self.task[task]\n",
    "        except KeyError:\n",
    "            print(\"The task entered does not exist\")\n",
    "\n",
    "    def complete_task(self, task):\n",
    "        if task in self.task:\n",
    "            self.task[task] = True\n",
    "        else:\n",
    "            print(\"The task entered does not exist\")\n",
    "            \n",
    "    def get_tasks(self):\n",
    "        return [{\"task\": task, \"completed\": completed} for task, completed in self.task.items()]\n",
    "\n",
    "    def get_task_count(self):\n",
    "        return len(self.task)\n",
    "\n",
    "    def clear_tasks(self):\n",
    "        self.task = {}\n",
    "\n",
    "#Implementation of persistance: i.e., the ability of an application to save its state and data so that it can be retrived and used late. \n",
    "    \n",
    "    def save_to_file(self, file_name):\n",
    "        with open(file_name, \"w\") as file:\n",
    "            for task, completed in self.task.items():\n",
    "                file.write(f\"Task Name: {task}, Task Status: {completed}\\n\")\n",
    "\n",
    "    def load_from_file(self, file_name):\n",
    "        try:\n",
    "            with open(file_name, \"r\") as file:\n",
    "                self.task = {}\n",
    "                for line in file:\n",
    "                    task, status = line.strip().split(\", \")\n",
    "                    self.task[task] = status\n",
    "        except FileNotFoundError:\n",
    "            print(\"Requested file was not found\")"
   ]
  },
  {
   "cell_type": "code",
   "execution_count": 708,
   "id": "e0da042f-2250-44a0-b571-9f161e3ba42f",
   "metadata": {},
   "outputs": [],
   "source": [
    "# Assessment 2: Simple Library Management System\n",
    "# Level 1: Basic Book Management"
   ]
  },
  {
   "cell_type": "code",
   "execution_count": 798,
   "id": "ce667a5d-32f2-486a-b0ba-f2f98f6a0694",
   "metadata": {},
   "outputs": [],
   "source": [
    "class LibraryManager:\n",
    "\n",
    "    def __init__(self):\n",
    "        self.title = []\n",
    "\n",
    "    def add_book(self, title):\n",
    "        self.title.append(title)\n",
    "\n",
    "    def remove_book(self, title):\n",
    "        if title in self.title:\n",
    "            self.title.remove(title)\n",
    "        else:\n",
    "            return print(\"The book entered is not in the library\")\n",
    "\n",
    "    def get_books(self):\n",
    "        return self.title"
   ]
  },
  {
   "cell_type": "code",
   "execution_count": 802,
   "id": "736e4309-d51d-4938-b848-879a37c1ce2c",
   "metadata": {},
   "outputs": [],
   "source": [
    "# Level 2: Enhanced Functionality"
   ]
  },
  {
   "cell_type": "code",
   "execution_count": 803,
   "id": "0b84aa6d-8788-47bc-86ed-4903bd262fb1",
   "metadata": {},
   "outputs": [],
   "source": [
    "class LibraryManager:\n",
    "    \n",
    "    def __init__(self):\n",
    "        self.title = []\n",
    "\n",
    "    def add_book(self, title):\n",
    "        self.title.append(title)\n",
    "\n",
    "    def remove_book(self, title):\n",
    "        if title in self.title:\n",
    "            self.title.remove(title)\n",
    "        else:\n",
    "            return print(\"The book entered is not in the library\")\n",
    "\n",
    "    def get_books(self):\n",
    "        return self.title\n",
    "\n",
    "    def total_books(self):\n",
    "        return len(self.title)\n",
    "\n",
    "    def clear_books(self):\n",
    "        self.title = []"
   ]
  },
  {
   "cell_type": "code",
   "execution_count": 804,
   "id": "1c06e677-0353-4e68-b2e1-2b6bc006f547",
   "metadata": {},
   "outputs": [],
   "source": [
    "# Level 3: Enhanced Data Management"
   ]
  },
  {
   "cell_type": "code",
   "execution_count": 850,
   "id": "014ea610-7cea-4ae6-9d21-0e6dde2fb1a5",
   "metadata": {},
   "outputs": [],
   "source": [
    "class LibraryManager:\n",
    "    \n",
    "    def __init__(self):\n",
    "        self.title = {}\n",
    "\n",
    "    def add_book(self, title):\n",
    "        self.title[title] = \"Available\"\n",
    "\n",
    "    def remove_book(self, title):\n",
    "        if title in self.title:\n",
    "            self.title.remove(title)\n",
    "        else:\n",
    "            return print(\"The book entered is not in the library\")\n",
    "\n",
    "    def check_out(self, title):\n",
    "        if title in self.title:\n",
    "            self.title[title] = \"Unavailable/Checked out\"\n",
    "        else:\n",
    "            return print(\"The book entered is not in the library\")\n",
    "    \n",
    "    def get_books(self):\n",
    "        return self.title\n",
    "\n",
    "    def total_books(self):\n",
    "        return sum(1 for status in self.title.values() if status == \"Available\")\n",
    "\n",
    "    def clear_books(self):\n",
    "        self.title = {}"
   ]
  },
  {
   "cell_type": "code",
   "execution_count": 851,
   "id": "a7262bec-cec0-42b1-b0cd-ba1b454651d8",
   "metadata": {},
   "outputs": [],
   "source": [
    "book1 = LibraryManager()\n",
    "book1.add_book(\"Harry Potter 1\")\n",
    "book1.add_book(\"Harry Potter 2\")\n",
    "book1.add_book(\"Harry Potter 3\")"
   ]
  },
  {
   "cell_type": "code",
   "execution_count": 852,
   "id": "32564db3-2f41-41cb-be46-3c0b56629303",
   "metadata": {},
   "outputs": [
    {
     "data": {
      "text/plain": [
       "{'Harry Potter 1': 'Available',\n",
       " 'Harry Potter 2': 'Available',\n",
       " 'Harry Potter 3': 'Available'}"
      ]
     },
     "execution_count": 852,
     "metadata": {},
     "output_type": "execute_result"
    }
   ],
   "source": [
    "book1.get_books()"
   ]
  },
  {
   "cell_type": "code",
   "execution_count": 853,
   "id": "54d73a0b-d815-471c-94fe-6bb0391c5d08",
   "metadata": {},
   "outputs": [],
   "source": [
    "book1.check_out(\"Harry Potter 1\")"
   ]
  },
  {
   "cell_type": "code",
   "execution_count": 854,
   "id": "f9debd07-d7f1-473a-8aab-7617bb8d1abb",
   "metadata": {},
   "outputs": [
    {
     "data": {
      "text/plain": [
       "2"
      ]
     },
     "execution_count": 854,
     "metadata": {},
     "output_type": "execute_result"
    }
   ],
   "source": [
    "book1.total_books()"
   ]
  },
  {
   "cell_type": "code",
   "execution_count": 857,
   "id": "46ea74a3-c623-4a69-bd8e-be04617fa5bc",
   "metadata": {},
   "outputs": [],
   "source": [
    "# Level 4: File Handling and Persistence"
   ]
  },
  {
   "cell_type": "code",
   "execution_count": 868,
   "id": "c0e0e5be-0b5a-42b8-af50-ddb9642631c0",
   "metadata": {},
   "outputs": [],
   "source": [
    "class LibraryManager:\n",
    "    \n",
    "    def __init__(self):\n",
    "        self.title = {}\n",
    "\n",
    "    def add_book(self, title):\n",
    "        self.title[title] = \"Available\"\n",
    "\n",
    "    def remove_book(self, title):\n",
    "        if title in self.title:\n",
    "            self.title.remove(title)\n",
    "        else:\n",
    "            return print(\"The book entered is not in the library\")\n",
    "\n",
    "    def check_out(self, title):\n",
    "        if title in self.title:\n",
    "            self.title[title] = \"Unavailable/Checked out\"\n",
    "        else:\n",
    "            return print(\"The book entered is not in the library\")\n",
    "    \n",
    "    def get_books(self):\n",
    "        return self.title\n",
    "\n",
    "    def total_books(self):\n",
    "        return sum(1 for status in self.title.values() if status == \"Available\")\n",
    "\n",
    "    def clear_books(self):\n",
    "        self.title = {}\n",
    "\n",
    "    def save_to_file(self, file_name):\n",
    "        with open(file_name, \"w\") as file:\n",
    "            for title, status in self.title.items():\n",
    "                file.write(f\"Title: {title}, Status: {status}\")\n",
    "\n",
    "    def read_from_file(self, file_name):\n",
    "        try:\n",
    "            with open(file_name, \"r\") as file:\n",
    "                self.title = {}    \n",
    "                for line in file:\n",
    "                    try:\n",
    "                        task, status = line.strip().split(\", \")\n",
    "                        self.title[task] = status\n",
    "                    except ValueError:\n",
    "                        print(\"Line format error\")\n",
    "        except FileNotFoundError:\n",
    "            print(\"The requested file could not be found\")            "
   ]
  },
  {
   "cell_type": "code",
   "execution_count": 869,
   "id": "a5a1a242-e9c0-4405-b956-aab1a2d6d63d",
   "metadata": {},
   "outputs": [],
   "source": [
    "### Assessment 3: Library Management System (from Gemini)\n",
    "# Level 1: Book Management\n",
    "# Level 2: Library Inventory\n",
    "# Level 3: Member Management"
   ]
  },
  {
   "cell_type": "code",
   "execution_count": 1369,
   "id": "e2a4fe3c-db4c-48e4-a2df-6c247109e04c",
   "metadata": {},
   "outputs": [],
   "source": [
    "class Book:\n",
    "\n",
    "    def __init__(self, title, author, isbn):\n",
    "        self.title = title\n",
    "        self.author = author\n",
    "        self.isbn = isbn\n",
    "\n",
    "    def get_title(self):\n",
    "        return self.title\n",
    "\n",
    "    def get_author(self):\n",
    "        return self.author\n",
    "\n",
    "    def get_isbn(self):\n",
    "        return self.isbn\n",
    "\n",
    "class Library:\n",
    "\n",
    "    def __init__(self):\n",
    "        self.inventory = []\n",
    "\n",
    "    def add_book(self, book):\n",
    "        return self.inventory.append((book.get_title(), book.get_author(), book.get_isbn()))\n",
    "        \n",
    "    def remove_book(self, book_isbn):\n",
    "        for i, (title, author, isbn) in enumerate(self.inventory):\n",
    "            if (isbn == book_isbn):\n",
    "                del self.inventory[i]\n",
    "                return\n",
    "        return False\n",
    "    \n",
    "    def find_book_by_title(self, book_title):\n",
    "        for i, (title, author, isbn) in enumerate(self.inventory):\n",
    "            if (title == book_title):\n",
    "                return f\"The details of the requested book {self.inventory[i]}\"\n",
    "        return \"Book entered not in library\"\n",
    "\n",
    "    def find_book_by_author(self, book_author):\n",
    "        for i, (title, author, isbn) in enumerate(self.inventory):\n",
    "            if (author == book_author):\n",
    "                return f\"The details of the requested book {self.inventory[i]}\"\n",
    "        return \"Book entered not in library\"\n",
    "\n",
    "    def find_book_by_isbn(self, book_isbn):\n",
    "        for i, (title, author, isbn) in enumerate(self.inventory):\n",
    "            if (isbn == book_isbn):\n",
    "                return [Book(title, author, isbn).get_title(), Book(title, author, isbn).get_author(), Book(title, author, isbn).get_isbn()]\n",
    "        return \"Book not found\"\n",
    "\n",
    "\n",
    "class Member:\n",
    "\n",
    "    def __init__(self, name, id):\n",
    "        self.name = name\n",
    "        self.id = id\n",
    "        self.borrowed_books= []\n",
    "\n",
    "    def borrow_book(self, library, isbn):\n",
    "        book = library.find_book_by_isbn(isbn)\n",
    "        if book not in self.borrowed_books:\n",
    "            self.borrowed_books.append(book)\n",
    "            library.remove_book(book)\n",
    "            return\n",
    "        return False\n",
    "\n",
    "    def return_book(self, library, isbn):\n",
    "        book = library.find_book_by_isbn(isbn)\n",
    "        if book in self.borrowed_books:\n",
    "            self.borrowed_books.remove(book)\n",
    "            print(book)\n",
    "            return\n",
    "        return False"
   ]
  },
  {
   "cell_type": "code",
   "execution_count": 1377,
   "id": "22ec1897-1d0d-4ff0-a77b-37a8200530df",
   "metadata": {},
   "outputs": [
    {
     "name": "stdout",
     "output_type": "stream",
     "text": [
      "<__main__.Book object at 0x000001A224636950>\n",
      "[['Harry Potter', 'Rowling', '12344'], ['LOTR', 'Tolkien', '12345']] <class 'list'>\n"
     ]
    }
   ],
   "source": [
    "book1 = Book(\"LOTR\", \"Tolkien\", \"12345\")\n",
    "book2 = Book(\"Harry Potter\", \"Rowling\", \"12344\")\n",
    "print(book1)\n",
    "lib = Library()\n",
    "lib.add_book(book1)\n",
    "lib.add_book(book2)\n",
    "# lib.remove_book(\"12345\")\n",
    "# lib.remove_book(\"12345\")\n",
    "mem1 = Member(\"Jack\", \"001\")\n",
    "mem1.borrow_book(lib, \"12344\")\n",
    "mem1.borrow_book(lib, \"12345\")\n",
    "print(mem1.borrowed_books, type(mem1.borrowed_books))"
   ]
  },
  {
   "cell_type": "code",
   "execution_count": 1378,
   "id": "097bdd37-f92c-420d-ac6f-e93e65a3cd0a",
   "metadata": {},
   "outputs": [
    {
     "name": "stdout",
     "output_type": "stream",
     "text": [
      "['Harry Potter', 'Rowling', '12344']\n",
      "[['LOTR', 'Tolkien', '12345']] <class 'list'>\n"
     ]
    }
   ],
   "source": [
    "# print(lib.find_book_by_isbn(\"12345\"), type(lib.find_book_by_isbn(\"12345\")))\n",
    "mem1.return_book(lib, \"12344\")\n",
    "print(mem1.borrowed_books, type(mem1.borrowed_books))"
   ]
  },
  {
   "cell_type": "code",
   "execution_count": 1379,
   "id": "cb2fdb4f-15cc-4882-93cc-066d9e84de31",
   "metadata": {},
   "outputs": [],
   "source": [
    "# Assessment 4: Movie Rental Store (from Gemeni)\n",
    "# Level 1: Movie Management\n",
    "# Level 2: Inventory Management\n",
    "# Level 3: Customer Management\n",
    "# Level 4: Rental Calculations"
   ]
  },
  {
   "cell_type": "code",
   "execution_count": 1783,
   "id": "a3d06d64-031f-43f8-8af4-48537e0ab021",
   "metadata": {},
   "outputs": [],
   "source": [
    "class Movie:\n",
    "\n",
    "    def __init__(self, title, genre, rental_price):\n",
    "        self.title = title\n",
    "        self.genre = genre\n",
    "        self.rental_price = rental_price\n",
    "\n",
    "    def get_title(self):\n",
    "        return self.title\n",
    "\n",
    "    def get_genre(self):\n",
    "        return self.genre\n",
    "\n",
    "    def get_rental_price(self):\n",
    "        return self.rental_price\n",
    "\n",
    "class Inventory:\n",
    "\n",
    "    def __init__(self):\n",
    "     self.inventory = []\n",
    "\n",
    "    def add_movie(self, movie):\n",
    "        self.inventory.append((movie.get_title(), movie.get_genre(), movie.get_rental_price()))\n",
    "        return True\n",
    "    \n",
    "    def remove_movie(self, title):\n",
    "        for i, (_title, _genre, _price) in enumerate (self.inventory):\n",
    "            if (_title == title):\n",
    "                del self.inventory[i]\n",
    "                return True\n",
    "        return \"Title entered not in inventory\"\n",
    "\n",
    "    def find_movie_by_title(self, title):       \n",
    "        for (_title, _genre, _price) in (self.inventory):\n",
    "            if (_title == title):\n",
    "                return _title\n",
    "        return \"Title requested not in inventory\"\n",
    "\n",
    "    def find_movies_by_genre(self, genre):\n",
    "        list_by_genre = []\n",
    "        for (_title, _genre, _price) in (self.inventory):\n",
    "            if (_genre == genre):\n",
    "                list_by_genre.append(_title)\n",
    "        if (list_by_genre != []):\n",
    "            return f\"The requested genre has the following titles in our inventory: {list_by_genre}\" \n",
    "        else:\n",
    "            return \"Genre requested not in inventory\"\n",
    "\n",
    "class Customer:\n",
    "\n",
    "    def __init__(self, name, membership_type):\n",
    "        self.name = name\n",
    "        self.check_membership_type(membership_type)\n",
    "        self.rental_record = []\n",
    "        self.bill_amount = 0\n",
    "\n",
    "    def check_membership_type(self, membership_type):\n",
    "        valid = [\"Regular\", \"Premium\"]\n",
    "        if membership_type not in valid:\n",
    "            raise ValueError(\"Please choose membership type between Regular or Premium only\")\n",
    "        self.membership_type = membership_type\n",
    "            \n",
    "    def rent_movie(self, store, title):\n",
    "        movie = store.find_movie_by_title(title)\n",
    "        if (movie != \"Title requested not in inventory\"):\n",
    "            self.rental_record.append(movie)\n",
    "            return self.rental_record\n",
    "        return \"Title requested not in inventory\"\n",
    "        \n",
    "    def return_movie(self, store, title):\n",
    "        movie = store.find_movie_by_title(title)\n",
    "        if (movie != \"Title requested not in inventory\"):\n",
    "            try:\n",
    "                self.rental_record.remove(movie)\n",
    "                return self.rental_record\n",
    "            except ValueError:\n",
    "                return \"Title you are trying to return is not in your inventory\"\n",
    "\n",
    "    def calculate_rental_fee(self, membership_type, rental_duration):\n",
    "        for movie in self.rental_record:\n",
    "            return movie.get_rental_price()\n",
    "            "
   ]
  },
  {
   "cell_type": "code",
   "execution_count": 1784,
   "id": "7ddb6789-daa6-41e2-87f5-a84037a74451",
   "metadata": {},
   "outputs": [
    {
     "data": {
      "text/plain": [
       "True"
      ]
     },
     "execution_count": 1784,
     "metadata": {},
     "output_type": "execute_result"
    }
   ],
   "source": [
    "movie1 = Movie(\"LOTR\", \"Fantasy\", 10)\n",
    "movie2 = Movie(\"Dune\", \"Fantasy\", 10)\n",
    "movie3 = Movie(\"When Harry Met Sally\", \"RomCom\", 10)\n",
    "inv = Inventory()\n",
    "inv.add_movie(movie1)\n",
    "inv.add_movie(movie2)\n",
    "inv.add_movie(movie3)"
   ]
  },
  {
   "cell_type": "code",
   "execution_count": 1785,
   "id": "f85f689b-9334-46fa-8541-2a241bffb3e7",
   "metadata": {},
   "outputs": [],
   "source": [
    "cus1 = Customer(\"Mr.Who\", \"Premium\")"
   ]
  },
  {
   "cell_type": "code",
   "execution_count": 1786,
   "id": "c4e1cf56-f219-4ccc-acc9-12ea3aa8eda9",
   "metadata": {},
   "outputs": [
    {
     "data": {
      "text/plain": [
       "['LOTR', 'Dune']"
      ]
     },
     "execution_count": 1786,
     "metadata": {},
     "output_type": "execute_result"
    }
   ],
   "source": [
    "cus1.rent_movie(inv, \"LOTR\")\n",
    "cus1.rent_movie(inv, \"Dune\")"
   ]
  },
  {
   "cell_type": "code",
   "execution_count": 1787,
   "id": "6714104d-13c2-4174-8b8d-5be0ebbdbd00",
   "metadata": {},
   "outputs": [],
   "source": [
    "x = ['LOTR', 'Dune']"
   ]
  },
  {
   "cell_type": "code",
   "execution_count": 1796,
   "id": "680fc19f-0db2-4fa1-9134-9fb41904562b",
   "metadata": {},
   "outputs": [],
   "source": [
    "# Need to fix this! cus1.calculate_rental_fee(\"Premium\", 5)"
   ]
  },
  {
   "cell_type": "code",
   "execution_count": 1972,
   "id": "06fa8454-48f8-4b75-9ab3-ced2e5ca5624",
   "metadata": {},
   "outputs": [],
   "source": [
    "# Mock Assessment: Simple Note Taking App\n",
    "# Level 1: Note Creation\n",
    "# Level 2: Note Retrieval and Listing\n",
    "# Level 3: Updating Notes\n",
    "# Level 4: Level 4: Deleting Notes and Filtering"
   ]
  },
  {
   "cell_type": "code",
   "execution_count": 2106,
   "id": "57ac530d-f018-4e09-bbf3-5921f9f031fb",
   "metadata": {},
   "outputs": [],
   "source": [
    "from datetime import datetime\n",
    "\n",
    "class Note:\n",
    "\n",
    "    def __init__(self, id, content):\n",
    "        self.id = id\n",
    "        self.content = content\n",
    "        self.created_at = datetime.timestamp(datetime.now()) #creating timestamp based on when method is invoked\n",
    "\n",
    "class NoteManager:\n",
    "\n",
    "    def __init__(self):\n",
    "        self.note_list = []\n",
    "        self.note_id = 0\n",
    "\n",
    "    def add_note(self, content):\n",
    "        self.note_id += 1\n",
    "        new_note = Note(self.note_id, content)\n",
    "        self.note_list.append(new_note)\n",
    "        return self.note_id #returns the ID as specified\n",
    "\n",
    "    def get_note(self, note_id):\n",
    "        for _note in self.note_list:\n",
    "            if (_note.id == note_id):\n",
    "                return _note\n",
    "        return None\n",
    "\n",
    "    def get_all_notes(self):\n",
    "        return self.note_list \n",
    "\n",
    "    def update_note(self, note_id, new_content):\n",
    "        for _note in self.note_list:\n",
    "            if(_note.id == note_id):\n",
    "                _note.content = new_content\n",
    "                return True\n",
    "        return False\n",
    "                \n",
    "    def delete_note(self, note_id):\n",
    "        for _note in self.note_list:\n",
    "            if _note.id == note_id:\n",
    "                self.note_list.remove(_note)\n",
    "                return True\n",
    "        return False\n",
    "\n",
    "    def filter_notes(self, keyword):\n",
    "        _notes_containing_keyword = []\n",
    "        for _note in self.note_list:\n",
    "            if keyword in _note.content:\n",
    "                _notes_containing_keyword.append(_note)\n",
    "        return _notes_containing_keyword\n",
    "                \n",
    "      # def filter_notes(self, keyword):\n",
    "      #       _notes_containing_keyword = []\n",
    "      #       for _note in self.note_list:\n",
    "      #           _note_split_by_words = _note.content.strip(\", \").split()\n",
    "      #           for i in range(len(_note_split_by_words)):\n",
    "      #               if(_note_split_by_words[i] == keyword):\n",
    "      #                  return _note\n",
    "      #       return False\n",
    "            \n",
    "\n",
    "\n",
    "\n",
    "\n",
    "\n",
    "                 "
   ]
  },
  {
   "cell_type": "code",
   "execution_count": 2107,
   "id": "9440f729-bf79-40f2-bde3-5cf47aa58d72",
   "metadata": {},
   "outputs": [],
   "source": [
    "manager = NoteManager()\n",
    "note_id = manager.add_note(\"Buy groceries\")\n",
    "success = manager.update_note(note_id, \"Buy groceries and cook dinner\")\n",
    "manager.add_note(\"Buy and Read a book\")\n",
    "filtered_notes = manager.filter_notes(\"Buy\")"
   ]
  },
  {
   "cell_type": "code",
   "execution_count": 2108,
   "id": "d8d5300d-892a-4901-9518-b497259f149b",
   "metadata": {},
   "outputs": [
    {
     "name": "stdout",
     "output_type": "stream",
     "text": [
      "['Buy groceries and cook dinner', 'Buy and Read a book']\n"
     ]
    }
   ],
   "source": [
    "print([note.content for note in filtered_notes])"
   ]
  },
  {
   "cell_type": "code",
   "execution_count": 2003,
   "id": "7698e29e-a9ee-4c5e-875f-15a7aae768ef",
   "metadata": {},
   "outputs": [
    {
     "data": {
      "text/plain": [
       "'Buy'"
      ]
     },
     "execution_count": 2003,
     "metadata": {},
     "output_type": "execute_result"
    }
   ],
   "source": []
  },
  {
   "cell_type": "code",
   "execution_count": null,
   "id": "7bb57c32-8dda-49f8-9340-3a6c80383de6",
   "metadata": {},
   "outputs": [],
   "source": []
  },
  {
   "cell_type": "code",
   "execution_count": 2109,
   "id": "bb43943c-fe26-4fb8-852d-9ea501b8eebd",
   "metadata": {},
   "outputs": [],
   "source": [
    "# Level 1: Experiment Management\n",
    "# Level 2: Equipment Management"
   ]
  },
  {
   "cell_type": "code",
   "execution_count": 2315,
   "id": "5fff7dec-0781-4811-9b97-a09a2a3b93b5",
   "metadata": {},
   "outputs": [],
   "source": [
    "from datetime import datetime\n",
    "\n",
    "class Experiment:\n",
    "\n",
    "    def __init__(self, name, duration):\n",
    "        self.name = name\n",
    "        self.duration = duration\n",
    "        self.status = \"Not Started\"\n",
    "        self.tracker = []\n",
    "\n",
    "    def start(self):\n",
    "        self.status = \"In Progress\"\n",
    "        return\n",
    "\n",
    "    def end(self):\n",
    "        self.status = \"Completed\"\n",
    "        return\n",
    "\n",
    "    def get_status(self):\n",
    "        return self.status\n",
    "\n",
    "    def add_equipment(self, experiment):\n",
    "        self.tracker.append(((self.name, self.duration, self.status, experiment)))\n",
    "        return\n",
    "\n",
    "    def remove_equipment(self, experiment):\n",
    "        for i, (_name, _duration, _status, _experiment) in enumerate (self.tracker):\n",
    "            if (_experiment == experiment):\n",
    "                del self.tracker[i]\n",
    "            return self.tracker\n",
    "        return \"Cannot remove a non-existent experiment\"\n",
    "\n",
    "class Equipment:\n",
    "\n",
    "    def __init__(self, name, quantity):\n",
    "        self.name = name\n",
    "        self.quantity = quantity\n",
    "        self.reserved_items = 0\n",
    "\n",
    "    def reserve(self, quantity):\n",
    "        self.reserved_items += 1\n",
    "        self.quantity -= quantity\n",
    "        return\n",
    "\n",
    "    def release(self, quantity):\n",
    "        if(self.reserved_items != 0):\n",
    "            self.quantity += quantity\n",
    "            return\n",
    "        return print(\"Cannot release item that has not been reserved\")\n",
    "\n",
    "    def get_availability(self):\n",
    "        return self.quantity\n",
    "\n",
    "class Scheduler:\n",
    "\n",
    "    def __init__(self):\n",
    "        self.schedule = []\n",
    "        \n",
    "    def schedule_experiment(self, experiment):\n",
    "        self.ts = datetime.timestamp(datetime.now())\n",
    "        if self.schedule == []:\n",
    "            self.schedule.append((experiment, self.ts))\n",
    "            return self.schedule\n",
    "        else:\n",
    "            for (_experiment, _timestamp) in self.schedule:\n",
    "                if (_timestamp - (experiment.duration + self.ts) < _experiment.duration):\n",
    "                    return f\"{experiment.name} cannot be scheduled due to time overlap\" \n",
    "                else:\n",
    "                    self.schedule.append((experiment, self.ts))\n",
    "                    return\n",
    "\n",
    "    def unschedule_experiment(self, experiment):\n",
    "        for i, (_experiment, _timestamp) in enumerate (self.schedule):\n",
    "            if (_experiment == experiment):\n",
    "                del self.schedule [i]\n",
    "                return self.schedule\n",
    "        return print(\"Cannot unschedule a non-existent experiment\")  "
   ]
  },
  {
   "cell_type": "code",
   "execution_count": 2316,
   "id": "132cdcf9-44cb-4158-a88f-07efe7607c32",
   "metadata": {},
   "outputs": [
    {
     "data": {
      "text/plain": [
       "1"
      ]
     },
     "execution_count": 2316,
     "metadata": {},
     "output_type": "execute_result"
    }
   ],
   "source": [
    "equipment = Equipment(\"Microscope\", 2)\n",
    "equipment.reserve(1)\n",
    "equipment.get_availability()"
   ]
  },
  {
   "cell_type": "code",
   "execution_count": 2317,
   "id": "b780e250-c9c5-4581-b7bb-38195ff5f1c3",
   "metadata": {},
   "outputs": [],
   "source": [
    "# experiment = Experiment(\"Test Experiment\", 30)\n",
    "# experiment.add_equipment(equipment)\n",
    "# experiment.remove_equipment(equipment)"
   ]
  },
  {
   "cell_type": "code",
   "execution_count": 2318,
   "id": "3b051363-0666-4ee9-99a7-4b9e0a1ca062",
   "metadata": {},
   "outputs": [
    {
     "data": {
      "text/plain": [
       "[(<__main__.Experiment at 0x1a225bfe150>, 1728841568.612152)]"
      ]
     },
     "execution_count": 2318,
     "metadata": {},
     "output_type": "execute_result"
    }
   ],
   "source": [
    "scheduler = Scheduler()\n",
    "experiment1 = Experiment(\"Experiment 1\", -40)\n",
    "experiment2 = Experiment(\"Experiment 2\", 30)\n",
    "scheduler.schedule_experiment(experiment1)"
   ]
  },
  {
   "cell_type": "code",
   "execution_count": 2319,
   "id": "5c658ed3-fab8-4d80-a083-6765bdd673d9",
   "metadata": {},
   "outputs": [],
   "source": [
    "scheduler.schedule_experiment(experiment2)"
   ]
  },
  {
   "cell_type": "code",
   "execution_count": 2322,
   "id": "57314541-561e-434c-9a3a-094576c63800",
   "metadata": {},
   "outputs": [
    {
     "name": "stdout",
     "output_type": "stream",
     "text": [
      "Cannot unschedule a non-existent experiment\n"
     ]
    }
   ],
   "source": [
    "scheduler.unschedule_experiment(experiment1)"
   ]
  },
  {
   "cell_type": "code",
   "execution_count": 2471,
   "id": "97fc78ca-285a-4e30-bd06-ff3039df22b3",
   "metadata": {},
   "outputs": [],
   "source": [
    "# Project: Simple To-Do List App\n",
    "# Level 1: Basic Task Management\n",
    "# Level 2: Marking Tasks as Completed\n",
    "# Level 3: Listing Tasks\n",
    "# Level 4: Task Persistence"
   ]
  },
  {
   "cell_type": "code",
   "execution_count": 2477,
   "id": "a650c521-8885-4516-acc9-086ca0d2726d",
   "metadata": {},
   "outputs": [],
   "source": [
    "class Task:\n",
    "\n",
    "    def __init__(self, title: str, completed: bool = False):\n",
    "        self.title = title\n",
    "        self.completed = completed\n",
    "\n",
    "class ToDoList:\n",
    "\n",
    "    def __init__(self):\n",
    "        self.list = []\n",
    "        self.task_tracker = {}\n",
    "\n",
    "    def add_task(self, title: str):\n",
    "        self.list.append(Task(title))\n",
    "        return True\n",
    "\n",
    "    def remove_task(self, title: str) -> bool:\n",
    "        for task in self.list:\n",
    "            if (task.title == title):\n",
    "                self.list.remove(task)\n",
    "                return True\n",
    "        return False\n",
    "\n",
    "    def mark_completed(self, title: str) -> bool:\n",
    "        for task in self.list:\n",
    "            if (task.title == title):\n",
    "                    if(task.completed == True):\n",
    "                        return False\n",
    "                    else:    \n",
    "                        task.completed = True\n",
    "                        return True\n",
    "        return False\n",
    "\n",
    "    def list_tasks(self) -> dict:\n",
    "        for task in self.list:\n",
    "            self.task_tracker[task.title] = task.completed\n",
    "        return self.task_tracker\n",
    "\n",
    "    def save_to_file(self, filename: str):\n",
    "        with open(filename, \"w\") as file:\n",
    "            for task in self.list:\n",
    "                file.write(f\"Task Name: {task.title}, Task Status: {task.completed}\\n\")\n",
    "\n",
    "    def load_from_file(self, filename: str):\n",
    "        self.list = []\n",
    "        try:\n",
    "            with open(filename, \"r\") as file:\n",
    "                for line in file:\n",
    "                    try:\n",
    "                        (_task, _completed) = line.strip().split(\", \")\n",
    "                        self.list.append(Task(_task, _completed))\n",
    "                    except ValueError:\n",
    "                          return False\n",
    "        except FileNotFoundError:\n",
    "            return False"
   ]
  },
  {
   "cell_type": "code",
   "execution_count": 2466,
   "id": "52f42884-86aa-4217-bbc0-e079d65e146b",
   "metadata": {},
   "outputs": [
    {
     "name": "stdout",
     "output_type": "stream",
     "text": [
      "True\n"
     ]
    }
   ],
   "source": [
    "todo = ToDoList()\n",
    "todo.add_task(\"Buy milk\")\n",
    "todo.add_task(\"Go to the gym\")\n",
    "# print(todo.remove_task(\"Buy milk\"))  # True\n",
    "# print(todo.remove_task(\"Go to the gym\"))  # False\n",
    "print(todo.mark_completed(\"Buy milk\"))"
   ]
  },
  {
   "cell_type": "code",
   "execution_count": 2467,
   "id": "f11510fa-f998-4838-9757-b94a2915efe6",
   "metadata": {},
   "outputs": [
    {
     "name": "stdout",
     "output_type": "stream",
     "text": [
      "{'Buy milk': True, 'Go to the gym': False}\n"
     ]
    }
   ],
   "source": [
    "print(todo.list_tasks())"
   ]
  },
  {
   "cell_type": "code",
   "execution_count": 2449,
   "id": "c05f6920-946c-4881-a305-ccff9b36172c",
   "metadata": {},
   "outputs": [
    {
     "data": {
      "text/plain": [
       "{'Title': 'Hi'}"
      ]
     },
     "execution_count": 2449,
     "metadata": {},
     "output_type": "execute_result"
    }
   ],
   "source": [
    "x = {}\n",
    "x[\"Title\"] = \"Hi\"\n",
    "x"
   ]
  },
  {
   "cell_type": "code",
   "execution_count": 2450,
   "id": "da6f379b-0210-4257-9c64-3cb135c2aede",
   "metadata": {},
   "outputs": [],
   "source": [
    "x[\"Title\"] = \"Hi2\""
   ]
  },
  {
   "cell_type": "code",
   "execution_count": 2451,
   "id": "7fc8b12c-2fdd-4a0a-8fa2-605fbfbb5476",
   "metadata": {},
   "outputs": [
    {
     "data": {
      "text/plain": [
       "{'Title': 'Hi2'}"
      ]
     },
     "execution_count": 2451,
     "metadata": {},
     "output_type": "execute_result"
    }
   ],
   "source": [
    "x"
   ]
  },
  {
   "cell_type": "code",
   "execution_count": null,
   "id": "35d512ba-decc-496f-81b6-e86fdf1f65cb",
   "metadata": {},
   "outputs": [],
   "source": []
  }
 ],
 "metadata": {
  "kernelspec": {
   "display_name": "Python 3 (ipykernel)",
   "language": "python",
   "name": "python3"
  },
  "language_info": {
   "codemirror_mode": {
    "name": "ipython",
    "version": 3
   },
   "file_extension": ".py",
   "mimetype": "text/x-python",
   "name": "python",
   "nbconvert_exporter": "python",
   "pygments_lexer": "ipython3",
   "version": "3.11.5"
  }
 },
 "nbformat": 4,
 "nbformat_minor": 5
}
